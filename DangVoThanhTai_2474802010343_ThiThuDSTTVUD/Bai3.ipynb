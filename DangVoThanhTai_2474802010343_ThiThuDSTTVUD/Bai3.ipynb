{
 "cells": [
  {
   "cell_type": "code",
   "execution_count": 3,
   "metadata": {},
   "outputs": [
    {
     "name": "stdout",
     "output_type": "stream",
     "text": [
      "a) Ma trận nghịch đảo của P là:\n",
      "[[ 0.48837209 -0.09302326  0.02325581 -0.20930233]\n",
      " [ 0.03488372  0.27906977 -0.06976744  0.12790698]\n",
      " [-0.11627907  0.06976744  0.23255814 -0.09302326]\n",
      " [-0.01162791 -0.09302326  0.02325581  0.29069767]]\n",
      "\n",
      "b) Nghiệm của hệ phương trình là (x, y, z, w):\n",
      "[-0.58139535  3.24418605 -0.81395349  1.91860465]\n",
      "\n",
      "c) Kiểm tra lại nghiệm (P * x):\n",
      "[ 4.0000000e+00  7.0000000e+00 -4.4408921e-16  9.0000000e+00]\n",
      "So với vector hằng số ban đầu:\n",
      "[4 7 0 9]\n"
     ]
    }
   ],
   "source": [
    "import numpy as np\n",
    "\n",
    "# --- Dữ liệu đề bài ---\n",
    "P = np.array([\n",
    "    [2, 1, 0, 1],\n",
    "    [0, 3, 1, -1],\n",
    "    [1, 0, 4, 2],\n",
    "    [0, 1, 0, 3]\n",
    "])\n",
    "\n",
    "b = np.array([4, 7, 0, 9])  # vector hằng số từ hệ phương trình\n",
    "\n",
    "# --- a) Tìm ma trận nghịch đảo ---\n",
    "try:\n",
    "    P_inv = np.linalg.inv(P)\n",
    "    print(\"a) Ma trận nghịch đảo của P là:\")\n",
    "    print(P_inv)\n",
    "except np.linalg.LinAlgError:\n",
    "    print(\"a) Ma trận P không khả nghịch vì định thức bằng 0.\")\n",
    "\n",
    "# --- b) Giải hệ phương trình bằng nghịch đảo ---\n",
    "if 'P_inv' in locals():\n",
    "    x = np.dot(P_inv, b)\n",
    "    print(\"\\nb) Nghiệm của hệ phương trình là (x, y, z, w):\")\n",
    "    print(x)\n",
    "\n",
    "# --- c) Kiểm tra nghiệm ---\n",
    "if 'x' in locals():\n",
    "    b_check = np.dot(P, x)\n",
    "    print(\"\\nc) Kiểm tra lại nghiệm (P * x):\")\n",
    "    print(b_check)\n",
    "    print(\"So với vector hằng số ban đầu:\")\n",
    "    print(b)\n",
    "\n",
    "\n"
   ]
  }
 ],
 "metadata": {
  "kernelspec": {
   "display_name": "Python 3",
   "language": "python",
   "name": "python3"
  },
  "language_info": {
   "codemirror_mode": {
    "name": "ipython",
    "version": 3
   },
   "file_extension": ".py",
   "mimetype": "text/x-python",
   "name": "python",
   "nbconvert_exporter": "python",
   "pygments_lexer": "ipython3",
   "version": "3.11.0"
  },
  "orig_nbformat": 4,
  "vscode": {
   "interpreter": {
    "hash": "c261aea317cc0286b3b3261fbba9abdec21eaa57589985bb7a274bf54d6cc0a7"
   }
  }
 },
 "nbformat": 4,
 "nbformat_minor": 2
}
