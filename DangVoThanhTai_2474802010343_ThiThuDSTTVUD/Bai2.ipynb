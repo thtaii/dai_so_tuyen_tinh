{
 "cells": [
  {
   "cell_type": "code",
   "execution_count": 3,
   "metadata": {},
   "outputs": [
    {
     "name": "stdout",
     "output_type": "stream",
     "text": [
      "a) Ma trận tích M × N là:\n",
      "[[ 32  38  44  50]\n",
      " [ 80  96 112 128]\n",
      " [128 154 180 206]\n",
      " [ 12  14  16  18]]\n",
      "\n",
      "b) Định thức của ma trận M là: 6.66133814775094e-16\n",
      "→ Ma trận M không khả nghịch vì định thức = 0.\n",
      "\n",
      "c) Hạng của ma trận N là: 2\n"
     ]
    }
   ],
   "source": [
    "import numpy as np\n",
    "\n",
    "# --- Dữ liệu đề bài ---\n",
    "M = np.array([\n",
    "    [1, 2, 3, 0],\n",
    "    [4, 5, 6, 1],\n",
    "    [7, 8, 9, 2],\n",
    "    [0, 1, 1, 0]\n",
    "])\n",
    "\n",
    "N = np.array([\n",
    "    [0, 1, 2, 3],\n",
    "    [4, 5, 6, 7],\n",
    "    [8, 9, 10, 11],\n",
    "    [12, 13, 14, 15]\n",
    "])\n",
    "\n",
    "# --- a) Tính tích M × N ---\n",
    "MN = np.dot(M, N)\n",
    "print(\"a) Ma trận tích M × N là:\")\n",
    "print(MN)\n",
    "\n",
    "# --- b) Tính định thức của ma trận M ---\n",
    "try:\n",
    "    det_M = np.linalg.det(M)\n",
    "    print(\"\\nb) Định thức của ma trận M là:\", det_M)\n",
    "    if np.isclose(det_M, 0):\n",
    "        print(\"→ Ma trận M không khả nghịch vì định thức = 0.\")\n",
    "except np.linalg.LinAlgError:\n",
    "    print(\"\\nb) Không thể tính định thức của M (không là ma trận vuông).\")\n",
    "\n",
    "# --- c) Tính hạng của ma trận N ---\n",
    "rank_N = np.linalg.matrix_rank(N)\n",
    "print(\"\\nc) Hạng của ma trận N là:\", rank_N)\n"
   ]
  }
 ],
 "metadata": {
  "kernelspec": {
   "display_name": "Python 3",
   "language": "python",
   "name": "python3"
  },
  "language_info": {
   "codemirror_mode": {
    "name": "ipython",
    "version": 3
   },
   "file_extension": ".py",
   "mimetype": "text/x-python",
   "name": "python",
   "nbconvert_exporter": "python",
   "pygments_lexer": "ipython3",
   "version": "3.11.0"
  },
  "orig_nbformat": 4,
  "vscode": {
   "interpreter": {
    "hash": "c261aea317cc0286b3b3261fbba9abdec21eaa57589985bb7a274bf54d6cc0a7"
   }
  }
 },
 "nbformat": 4,
 "nbformat_minor": 2
}
