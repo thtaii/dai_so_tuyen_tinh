{
 "cells": [
  {
   "cell_type": "code",
   "execution_count": 8,
   "metadata": {},
   "outputs": [
    {
     "name": "stdout",
     "output_type": "stream",
     "text": [
      "a) Tổng A + B: [3 3 1 5]\n",
      "   Biểu thức 3A - 2B: [  4 -11  13 -10]\n",
      "\n",
      "b) Tích vô hướng A · B: -8\n",
      "   Góc giữa A và B (độ): 108.376 °\n",
      "\n",
      "c) Ma trận tích CᵀC là:\n",
      "[[ 5  0 -1]\n",
      " [ 0 14 10]\n",
      " [-1 10 17]]\n"
     ]
    }
   ],
   "source": [
    "import numpy as np\n",
    "\n",
    "# Dữ liệu đề bài\n",
    "A = np.array([2, -1, 3, 0])\n",
    "B = np.array([1, 4, -2, 5])\n",
    "C = np.array([\n",
    "    [1, 2, -1],\n",
    "    [0, 3, 4],\n",
    "    [2, -1, 0]\n",
    "])\n",
    "\n",
    "# --- a) Tính tổng A + B và tích số 3A - 2B ---\n",
    "sum_AB = A + B\n",
    "scalar_expr = 3 * A - 2 * B\n",
    "\n",
    "print(\"a) Tổng A + B:\", sum_AB)\n",
    "print(\"   Biểu thức 3A - 2B:\", scalar_expr)\n",
    "\n",
    "# --- b) Tích vô hướng A · B và góc giữa hai vector ---\n",
    "dot_product = np.dot(A, B)\n",
    "norm_A = np.linalg.norm(A)\n",
    "norm_B = np.linalg.norm(B)\n",
    "\n",
    "# Góc giữa 2 vector (theo độ)\n",
    "cos_theta = dot_product / (norm_A * norm_B)\n",
    "angle_rad = np.arccos(np.clip(cos_theta, -1.0, 1.0))\n",
    "angle_deg = np.degrees(angle_rad)\n",
    "\n",
    "print(\"\\nb) Tích vô hướng A · B:\", dot_product)\n",
    "print(\"   Góc giữa A và B (độ):\", round(angle_deg, 3), \"°\")\n",
    "\n",
    "# --- c) Tính tích ma trận CᵀC ---\n",
    "C_T = C.T\n",
    "CTC = np.dot(C_T, C)\n",
    "\n",
    "print(\"\\nc) Ma trận tích CᵀC là:\")\n",
    "print(CTC)\n",
    "\n",
    "\n"
   ]
  }
 ],
 "metadata": {
  "kernelspec": {
   "display_name": "Python 3",
   "language": "python",
   "name": "python3"
  },
  "language_info": {
   "codemirror_mode": {
    "name": "ipython",
    "version": 3
   },
   "file_extension": ".py",
   "mimetype": "text/x-python",
   "name": "python",
   "nbconvert_exporter": "python",
   "pygments_lexer": "ipython3",
   "version": "3.11.0"
  },
  "orig_nbformat": 4,
  "vscode": {
   "interpreter": {
    "hash": "c261aea317cc0286b3b3261fbba9abdec21eaa57589985bb7a274bf54d6cc0a7"
   }
  }
 },
 "nbformat": 4,
 "nbformat_minor": 2
}
