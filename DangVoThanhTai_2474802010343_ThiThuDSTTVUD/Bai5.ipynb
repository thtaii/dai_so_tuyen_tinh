{
 "cells": [
  {
   "cell_type": "code",
   "execution_count": 2,
   "metadata": {},
   "outputs": [
    {
     "name": "stdout",
     "output_type": "stream",
     "text": [
      "a) Giá trị riêng:\n",
      "[ 3. -1.]\n",
      "\n",
      "Vector riêng:\n",
      "[[ 0.70710678 -0.70710678]\n",
      " [ 0.70710678  0.70710678]]\n",
      "\n",
      "\n",
      "b) Kiểm tra với trị riêng λ = 3.0000000000000004\n",
      "A * v = [2.12132034 2.12132034]\n",
      "λ * v = [2.12132034 2.12132034]\n",
      "\n",
      "\n",
      "b) Kiểm tra với trị riêng λ = -0.9999999999999996\n",
      "A * v = [ 0.70710678 -0.70710678]\n",
      "λ * v = [ 0.70710678 -0.70710678]\n",
      "\n",
      "\n",
      "c) Ma trận đường chéo D:\n",
      "[[ 3.  0.]\n",
      " [ 0. -1.]]\n",
      "\n",
      "Ma trận P⁻¹:\n",
      "[[ 0.70710678  0.70710678]\n",
      " [-0.70710678  0.70710678]]\n",
      "\n",
      "Phục hồi A từ P * D * P⁻¹:\n",
      "[[1. 2.]\n",
      " [2. 1.]]\n"
     ]
    }
   ],
   "source": [
    "import numpy as np\n",
    "\n",
    "A = np.array([[1, 2],\n",
    "              [2, 1]])\n",
    "\n",
    "# a) Tính trị riêng và vector riêng\n",
    "eigenvalues, eigenvectors = np.linalg.eig(A)\n",
    "print(\"a) Giá trị riêng:\")\n",
    "print(eigenvalues)\n",
    "print(\"\\nVector riêng:\")\n",
    "print(eigenvectors)\n",
    "\n",
    "# b) Kiểm tra A * v = λ * v\n",
    "for i in range(len(eigenvalues)):\n",
    "    lam = eigenvalues[i]\n",
    "    v = eigenvectors[:, i]\n",
    "    left = A @ v\n",
    "    right = lam * v\n",
    "    print(f\"\\n\\nb) Kiểm tra với trị riêng λ = {lam}\")\n",
    "    print(\"A * v =\", left)\n",
    "    print(\"λ * v =\", right)\n",
    "\n",
    "# c) Đường chéo hóa nếu có thể\n",
    "try:\n",
    "    P = eigenvectors\n",
    "    D = np.diag(eigenvalues)\n",
    "    P_inv = np.linalg.inv(P)\n",
    "    A_reconstructed = P @ D @ P_inv\n",
    "\n",
    "    print(\"\\n\\nc) Ma trận đường chéo D:\")\n",
    "    print(D)\n",
    "    print(\"\\nMa trận P⁻¹:\")\n",
    "    print(P_inv)\n",
    "    print(\"\\nPhục hồi A từ P * D * P⁻¹:\")\n",
    "    print(A_reconstructed)\n",
    "except np.linalg.LinAlgError:\n",
    "    print(\"\\nKhông thể đường chéo hóa ma trận.\")\n",
    "\n"
   ]
  }
 ],
 "metadata": {
  "kernelspec": {
   "display_name": "Python 3",
   "language": "python",
   "name": "python3"
  },
  "language_info": {
   "codemirror_mode": {
    "name": "ipython",
    "version": 3
   },
   "file_extension": ".py",
   "mimetype": "text/x-python",
   "name": "python",
   "nbconvert_exporter": "python",
   "pygments_lexer": "ipython3",
   "version": "3.11.0"
  },
  "orig_nbformat": 4,
  "vscode": {
   "interpreter": {
    "hash": "c261aea317cc0286b3b3261fbba9abdec21eaa57589985bb7a274bf54d6cc0a7"
   }
  }
 },
 "nbformat": 4,
 "nbformat_minor": 2
}
