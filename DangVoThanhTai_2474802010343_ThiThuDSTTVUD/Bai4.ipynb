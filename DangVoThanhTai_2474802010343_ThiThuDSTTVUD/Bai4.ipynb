{
 "cells": [
  {
   "cell_type": "code",
   "execution_count": 4,
   "metadata": {},
   "outputs": [
    {
     "name": "stdout",
     "output_type": "stream",
     "text": [
      "a) Giá trị riêng của Q là:\n",
      "[3.45339765+0.j         2.77330117+1.46771151j 2.77330117-1.46771151j]\n",
      "\n",
      "b) Các vector riêng tương ứng:\n",
      "Vector riêng ứng với λ = 3.45+0.00j là:\n",
      "[0.83327121+0.j 0.455468  +0.j 0.31338154+0.j]\n",
      "Vector riêng ứng với λ = 2.77+1.47j là:\n",
      "[-0.26206044-0.31354813j -0.78166743+0.j         -0.21963176+0.41685708j]\n",
      "Vector riêng ứng với λ = 2.77-1.47j là:\n",
      "[-0.26206044+0.31354813j -0.78166743-0.j         -0.21963176-0.41685708j]\n",
      "\n",
      "c) Vector riêng sau khi chuẩn hóa (độ dài bằng 1):\n",
      "Vector riêng ứng với λ = 3.45+0.00j (chuẩn hóa):\n",
      "[0.83327121+0.j 0.455468  +0.j 0.31338154+0.j]\n",
      "Vector riêng ứng với λ = 2.77+1.47j (chuẩn hóa):\n",
      "[-0.26206044-0.31354813j -0.78166743+0.j         -0.21963176+0.41685708j]\n",
      "Vector riêng ứng với λ = 2.77-1.47j (chuẩn hóa):\n",
      "[-0.26206044+0.31354813j -0.78166743+0.j         -0.21963176-0.41685708j]\n"
     ]
    }
   ],
   "source": [
    "import numpy as np\n",
    "from numpy.linalg import eig, norm\n",
    "\n",
    "# Ma trận Q theo đề bài\n",
    "Q = np.array([[4, -1, 0],\n",
    "              [1,  3, -2],\n",
    "              [0,  1, 2]])\n",
    "\n",
    "# --- a) Tìm các giá trị riêng của Q ---\n",
    "eigenvalues, eigenvectors = eig(Q)\n",
    "print(\"a) Giá trị riêng của Q là:\")\n",
    "print(eigenvalues)\n",
    "\n",
    "# --- b) Tìm các vector riêng tương ứng ---\n",
    "print(\"\\nb) Các vector riêng tương ứng:\")\n",
    "for i in range(len(eigenvalues)):\n",
    "    print(f\"Vector riêng ứng với λ = {eigenvalues[i]:.2f} là:\")\n",
    "    print(eigenvectors[:, i])\n",
    "\n",
    "# --- c) Chuẩn hóa tất cả các vector riêng ---\n",
    "print(\"\\nc) Vector riêng sau khi chuẩn hóa (độ dài bằng 1):\")\n",
    "for i in range(len(eigenvalues)):\n",
    "    v = eigenvectors[:, i]\n",
    "    v_normalized = v / norm(v)\n",
    "    print(f\"Vector riêng ứng với λ = {eigenvalues[i]:.2f} (chuẩn hóa):\")\n",
    "    print(v_normalized)\n",
    "\n",
    "\n"
   ]
  }
 ],
 "metadata": {
  "kernelspec": {
   "display_name": "Python 3",
   "language": "python",
   "name": "python3"
  },
  "language_info": {
   "codemirror_mode": {
    "name": "ipython",
    "version": 3
   },
   "file_extension": ".py",
   "mimetype": "text/x-python",
   "name": "python",
   "nbconvert_exporter": "python",
   "pygments_lexer": "ipython3",
   "version": "3.11.0"
  },
  "orig_nbformat": 4,
  "vscode": {
   "interpreter": {
    "hash": "c261aea317cc0286b3b3261fbba9abdec21eaa57589985bb7a274bf54d6cc0a7"
   }
  }
 },
 "nbformat": 4,
 "nbformat_minor": 2
}
