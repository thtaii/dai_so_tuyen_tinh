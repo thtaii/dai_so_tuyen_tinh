{
 "cells": [
  {
   "cell_type": "code",
   "execution_count": null,
   "metadata": {},
   "outputs": [],
   "source": [
    "import sympy as sp\n",
    "x1, x2 = sp.symbols('x1 x2')\n",
    "a, b = sp.symbols('a b')\n",
    "d, e = sp.symbols('d e')\n",
    "q = sp.symbols('q')\n",
    "\n",
    "# Ánh xạ\n",
    "f1 = x1 - x2\n",
    "f2 = x1 + 2*x2\n",
    "\n",
    "# Kiểm tra cộng tuyến tính\n",
    "sum_check1 = sp.simplify((f1.subs({x1: a, x2: b}) + f1.subs({x1: d, x2: e})) - f1.subs({x1: a + d, x2: b + e}))\n",
    "sum_check2 = sp.simplify((f2.subs({x1: a, x2: b}) + f2.subs({x1: d, x2: e})) - f2.subs({x1: a + d, x2: b + e}))\n",
    "\n",
    "# Kiểm tra nhân tuyến tính\n",
    "scale_check1 = sp.simplify((q*f1.subs({x1: a, x2: b})) - f1.subs({x1: q*a, x2: q*b}))\n",
    "scale_check2 = sp.simplify((q*f2.subs({x1: a, x2: b})) - f2.subs({x1: q*a, x2: q*b}))\n",
    "\n",
    "(sum_check1, sum_check2, scale_check1, scale_check2)"
   ]
  }
 ],
 "metadata": {
  "kernelspec": {
   "display_name": "Python 3",
   "language": "python",
   "name": "python3"
  },
  "language_info": {
   "name": "python",
   "version": "3.11.0 (main, Oct 24 2022, 18:26:48) [MSC v.1933 64 bit (AMD64)]"
  },
  "orig_nbformat": 4,
  "vscode": {
   "interpreter": {
    "hash": "c261aea317cc0286b3b3261fbba9abdec21eaa57589985bb7a274bf54d6cc0a7"
   }
  }
 },
 "nbformat": 4,
 "nbformat_minor": 2
}
