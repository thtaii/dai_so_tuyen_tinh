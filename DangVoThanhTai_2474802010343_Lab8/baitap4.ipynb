{
 "cells": [
  {
   "cell_type": "code",
   "execution_count": 3,
   "metadata": {},
   "outputs": [
    {
     "name": "stdout",
     "output_type": "stream",
     "text": [
      "Giá trị riêng: [18.+0.j  8.+0.j]\n",
      "Vectơ riêng (cột):  [[ 0.70710678  0.70710678]\n",
      " [-0.70710678  0.70710678]]\n"
     ]
    },
    {
     "data": {
      "text/plain": [
       "-45.0"
      ]
     },
     "execution_count": 3,
     "metadata": {},
     "output_type": "execute_result"
    }
   ],
   "source": [
    "import numpy as np\n",
    "from scipy.linalg import eig\n",
    "\n",
    "# Ma trận A trong phương trình bậc 2: Ax^2 + Bxy + Cy^2\n",
    "A = np.array([[13, -5],\n",
    "              [-5, 13]])\n",
    "\n",
    "# Tìm trị riêng và vectơ riêng\n",
    "eigenvalues, eigenvectors = eig(A)\n",
    "print(\"Giá trị riêng:\", eigenvalues)\n",
    "print(\"Vectơ riêng (cột): \", eigenvectors)\n",
    "# Góc xoay được xác định từ eigenvector tương ứng\n",
    "theta_rad = np.arctan2(eigenvectors[1, 0], eigenvectors[0, 0])\n",
    "theta_deg = np.degrees(theta_rad)\n",
    "theta_deg\n"
   ]
  }
 ],
 "metadata": {
  "kernelspec": {
   "display_name": "Python 3",
   "language": "python",
   "name": "python3"
  },
  "language_info": {
   "codemirror_mode": {
    "name": "ipython",
    "version": 3
   },
   "file_extension": ".py",
   "mimetype": "text/x-python",
   "name": "python",
   "nbconvert_exporter": "python",
   "pygments_lexer": "ipython3",
   "version": "3.11.0 (main, Oct 24 2022, 18:26:48) [MSC v.1933 64 bit (AMD64)]"
  },
  "orig_nbformat": 4,
  "vscode": {
   "interpreter": {
    "hash": "c261aea317cc0286b3b3261fbba9abdec21eaa57589985bb7a274bf54d6cc0a7"
   }
  }
 },
 "nbformat": 4,
 "nbformat_minor": 2
}
