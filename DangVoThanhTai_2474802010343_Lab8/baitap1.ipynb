{
 "cells": [
  {
   "cell_type": "code",
   "execution_count": 2,
   "metadata": {},
   "outputs": [
    {
     "data": {
      "text/plain": [
       "((a + b + d + e, b + e + 2, 0), (a + b + d + e, b + e + 4, 0), False)"
      ]
     },
     "execution_count": 2,
     "metadata": {},
     "output_type": "execute_result"
    }
   ],
   "source": [
    "import sympy as sp\n",
    "x, y, z = sp.symbols('x y z')\n",
    "a, b, c = sp.symbols('a b c')\n",
    "d, e, f = sp.symbols('d e f')\n",
    "q = sp.symbols('q')\n",
    "\n",
    "# Định nghĩa ánh xạ f(x, y, z) = (x + y, y + 2, 0)\n",
    "T1 = x + y\n",
    "T2 = y + 2\n",
    "T3 = 0\n",
    "\n",
    "# Kiểm tra cộng tuyến tính\n",
    "lhs = (T1.subs({x: a + d, y: b + e}), T2.subs({y: b + e}), T3)\n",
    "rhs = (T1.subs({x: a, y: b}) + T1.subs({x: d, y: e}),\n",
    "       T2.subs({y: b}) + T2.subs({y: e}),\n",
    "       T3 + T3)\n",
    "lhs, rhs, lhs == rhs\n"
   ]
  },
  {
   "cell_type": "code",
   "execution_count": null,
   "metadata": {},
   "outputs": [],
   "source": []
  }
 ],
 "metadata": {
  "kernelspec": {
   "display_name": "Python 3",
   "language": "python",
   "name": "python3"
  },
  "language_info": {
   "codemirror_mode": {
    "name": "ipython",
    "version": 3
   },
   "file_extension": ".py",
   "mimetype": "text/x-python",
   "name": "python",
   "nbconvert_exporter": "python",
   "pygments_lexer": "ipython3",
   "version": "3.11.0"
  },
  "orig_nbformat": 4,
  "vscode": {
   "interpreter": {
    "hash": "c261aea317cc0286b3b3261fbba9abdec21eaa57589985bb7a274bf54d6cc0a7"
   }
  }
 },
 "nbformat": 4,
 "nbformat_minor": 2
}
