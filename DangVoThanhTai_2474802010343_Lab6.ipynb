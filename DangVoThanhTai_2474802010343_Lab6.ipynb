{
  "nbformat": 4,
  "nbformat_minor": 0,
  "metadata": {
    "colab": {
      "provenance": []
    },
    "kernelspec": {
      "name": "python3",
      "display_name": "Python 3"
    },
    "language_info": {
      "name": "python"
    }
  },
  "cells": [
    {
      "cell_type": "code",
      "execution_count": 1,
      "metadata": {
        "colab": {
          "base_uri": "https://localhost:8080/"
        },
        "id": "LuueqLxCbflV",
        "outputId": "83d74634-7360-453b-e0dc-a3f0e7caf7d8"
      },
      "outputs": [
        {
          "output_type": "stream",
          "name": "stdout",
          "text": [
            "Tích vô hướng của a và b (np.inner): 32\n",
            "Tích vô hướng của a và b (np.dot): 32\n",
            "np.inner với ma trận 2x2:\n",
            " [[17 23]\n",
            " [39 53]]\n",
            "np.dot với ma trận 2x2:\n",
            " [[19 22]\n",
            " [43 50]]\n",
            "np.dot với (2x2) * (2x3):\n",
            " [[3 3 3]\n",
            " [7 7 7]]\n"
          ]
        }
      ],
      "source": [
        "# Bài 1.2\n",
        "import numpy as np\n",
        "\n",
        "# Khai báo hai vector a và b\n",
        "a = np.array([1, 2, 3])\n",
        "b = np.array([4, 5, 6])\n",
        "tich_vo_huong = np.inner(a, b)\n",
        "print(\"Tích vô hướng của a và b (np.inner):\", tich_vo_huong)\n",
        "\n",
        "tich_dot = np.dot(a, b)\n",
        "print(\"Tích vô hướng của a và b (np.dot):\", tich_dot)\n",
        "\n",
        "p = np.array([[1, 2], [3, 4]])\n",
        "q = np.array([[5, 6], [7, 8]])\n",
        "\n",
        "tich_inner_2d = np.inner(p, q)\n",
        "print(\"np.inner với ma trận 2x2:\\n\", tich_inner_2d)\n",
        "\n",
        "tich_dot_2d = np.dot(p, q)\n",
        "print(\"np.dot với ma trận 2x2:\\n\", tich_dot_2d)\n",
        "\n",
        "x = np.array([[1, 2], [3, 4]])\n",
        "y = np.array([[1, 1, 1], [1, 1, 1]])\n",
        "\n",
        "z = np.dot(x, y)\n",
        "print(\"np.dot với (2x2) * (2x3):\\n\", z)\n"
      ]
    },
    {
      "cell_type": "code",
      "source": [
        "import numpy as np\n",
        "import math\n",
        "from scipy import linalg\n",
        "\n",
        "def chuan(v, k):\n",
        "    tong = 0\n",
        "    for i in range(len(v)):\n",
        "        tong += abs(v[i])**k\n",
        "    ketqua = tong**(1.0/k)\n",
        "    return ketqua\n",
        "a = np.array([1, 2, -3])\n",
        "\n",
        "print(\"==> Chuẩn 2 (euclidean):\", np.linalg.norm(a))\n",
        "print(\"==> Chuẩn 1 (tổng trị tuyệt đối):\", np.linalg.norm(a, 1))\n",
        "\n",
        "# Thử các chuẩn khác\n",
        "print(\"==> Chuẩn 3:\", chuan(a, 3))\n",
        "print(\"==> np.linalg.norm với chuẩn 3:\", np.linalg.norm(a, 3))\n",
        "\n",
        "# Chuẩn lớn hơn (ví dụ chuẩn 1000)\n",
        "print(\"==> Chuẩn 1000 (gần max(abs(a))):\", chuan(a, 1000))\n",
        "print(\"==> np.linalg.norm(a, 1000):\", np.linalg.norm(a, 1000))\n",
        "\n",
        "# ------------------------------------\n",
        "# Tính khoảng cách giữa hai vector\n",
        "u = np.array([1, 2, 3])\n",
        "v = np.array([4, 5, 6])\n",
        "khoang_cach = np.linalg.norm(u - v)\n",
        "print(\"==> Khoảng cách giữa u và v:\", khoang_cach)\n",
        "def goc_giua_2_vector(u, v):\n",
        "    tu = np.inner(u, v)\n",
        "    mau = np.linalg.norm(u) * np.linalg.norm(v)\n",
        "    cos_theta = tu / mau\n",
        "    theta = np.arccos(np.clip(cos_theta, -1.0, 1.0))\n",
        "    return np.degrees(theta)\n",
        "\n",
        "print(\"==> Góc giữa u và v (độ):\", goc_giua_2_vector(u, v))\n",
        "\n",
        "def phep_chieu(u, v):\n",
        "    tu = np.inner(u, v)\n",
        "    mau = np.inner(v, v)\n",
        "    p = (tu / mau) * v\n",
        "    return p\n",
        "\n",
        "chieu_uv = phep_chieu(u, v)\n",
        "print(\"==> Phép chiếu trực giao của u lên v:\", chieu_uv)\n",
        "\n",
        "def kiem_tra_truc_giao(u, v):\n",
        "    tong_binh = np.linalg.norm(u + v)**2\n",
        "    tung_binh = np.linalg.norm(u)**2 + np.linalg.norm(v)**2\n",
        "    return math.isclose(tong_binh, tung_binh)\n",
        "\n",
        "print(\"==> Kiểm tra u ⊥ v (theo định lý Pythagoras):\", kiem_tra_truc_giao(u, v))\n"
      ],
      "metadata": {
        "id": "m3hQbg24eu6F"
      },
      "execution_count": null,
      "outputs": []
    },
    {
      "cell_type": "code",
      "source": [
        "# Bài 2\n",
        "import numpy as np\n",
        "m = 10\n",
        "\n",
        "v1 = np.array([5, -4, 3])\n",
        "v2 = np.array([4, 3, -2])\n",
        "v3 = np.array([-4, -3, -1])\n",
        "v4 = np.array([-9, 8, 6])\n",
        "\n",
        "mi = np.array([2, 2, 2, 4])\n",
        "M = np.array([v1, v2, v3, v4])\n",
        "\n",
        "MT = M.transpose()\n",
        "print(\"Ma trận chuyển vị MT:\\n\", MT)\n",
        "\n",
        "v = (1.0 / m) * MT.dot(mi)\n",
        "print(\"Vector trọng tâm là:\", v)\n"
      ],
      "metadata": {
        "colab": {
          "base_uri": "https://localhost:8080/"
        },
        "id": "2Z_Q9RzQgK6Q",
        "outputId": "c76fffbf-2f00-4f64-8441-bdf007816d7f"
      },
      "execution_count": 2,
      "outputs": [
        {
          "output_type": "stream",
          "name": "stdout",
          "text": [
            "Ma trận chuyển vị MT:\n",
            " [[ 5  4 -4 -9]\n",
            " [-4  3 -3  8]\n",
            " [ 3 -2 -1  6]]\n",
            "Vector trọng tâm là: [-2.6  2.4  2.4]\n"
          ]
        }
      ]
    },
    {
      "cell_type": "code",
      "source": [
        "# Bài 3.1\n",
        "import numpy as np\n",
        "A = np.array([[0.998, 0.136],\n",
        "              [0.002, 0.864]])\n",
        "v0 = np.array([0.95, 0.05])\n",
        "\n",
        "A_100 = np.linalg.matrix_power(A, 100)\n",
        "v100 = A_100.dot(v0)\n",
        "\n",
        "print(\"Ma trận A^100 là:\\n\", A_100)\n",
        "print(\"Vector v100 sau 100 tuần là:\\n\", v100)\n",
        "\n",
        "x100, y100 = v100\n",
        "print(\"x100 =\", x100)\n",
        "print(\"y100 =\", y100)\n"
      ],
      "metadata": {
        "colab": {
          "base_uri": "https://localhost:8080/"
        },
        "id": "u3AhVHCyg-NO",
        "outputId": "49279932-03ae-448c-ed2a-cacadb7323e0"
      },
      "execution_count": 3,
      "outputs": [
        {
          "output_type": "stream",
          "name": "stdout",
          "text": [
            "Ma trận A^100 là:\n",
            " [[0.98550725 0.9855069 ]\n",
            " [0.01449275 0.0144931 ]]\n",
            "Vector v100 sau 100 tuần là:\n",
            " [0.98550723 0.01449277]\n",
            "x100 = 0.9855072337572737\n",
            "y100 = 0.01449276624272995\n"
          ]
        }
      ]
    },
    {
      "cell_type": "code",
      "source": [
        "import sympy as sym\n",
        "x, y = sym.symbols('x y')\n",
        "\n",
        "A = sym.Matrix([[1, -68], [1, 1]])\n",
        "v = sym.Matrix([0, 1])\n",
        "xy = sym.Matrix([x, y])\n",
        "nghiem = sym.solve([A * xy - v], (x, y))\n",
        "\n",
        "print(\"Nghiệm bằng sympy là:\")\n",
        "print(sym.pretty(nghiem))\n"
      ],
      "metadata": {
        "colab": {
          "base_uri": "https://localhost:8080/"
        },
        "id": "T-5uqoimhuq2",
        "outputId": "f1726e94-9312-44ee-c628-79e09052e6cf"
      },
      "execution_count": 5,
      "outputs": [
        {
          "output_type": "stream",
          "name": "stdout",
          "text": [
            "Nghiệm bằng sympy là:\n",
            "⎧   68         ⎫\n",
            "⎨x: ──, y: 1/69⎬\n",
            "⎩   69         ⎭\n"
          ]
        }
      ]
    },
    {
      "cell_type": "code",
      "source": [
        "# Bài 3.2\n",
        "import numpy as np\n",
        "import sympy as sym\n",
        "\n",
        "A = np.array([[1, 6],\n",
        "              [5, 2]])\n",
        "\n",
        "u = np.array([6, -5])\n",
        "lam = -4\n",
        "Au = A.dot(u)\n",
        "lam_u = lam * u\n",
        "\n",
        "print(\"A * u =\", Au)\n",
        "print(\"-4 * u =\", lam_u)\n",
        "print(\"Au = -4u?\", np.allclose(Au, lam_u))\n",
        "eigenvalues, eigenvectors = np.linalg.eig(A)\n",
        "\n",
        "print(\"Các trị riêng (eigenvalues):\", eigenvalues)\n",
        "print(\"Các vector riêng (eigenvectors):\\n\", eigenvectors)\n",
        "\n",
        "x = sym.symbols('x')\n",
        "A_sym = sym.Matrix([[1, 6],\n",
        "                    [5, 2]])\n",
        "\n",
        "I = sym.eye(2)\n",
        "det = (A_sym - x * I).det()\n",
        "\n",
        "print(\"Đa thức đặc trưng (characteristic polynomial):\")\n",
        "sym.pprint(det)\n",
        "eigenvals = sym.solve(det, x)\n",
        "print(\"Các trị riêng tìm được:\", eigenvals)\n"
      ],
      "metadata": {
        "colab": {
          "base_uri": "https://localhost:8080/"
        },
        "id": "M2OZ63xbiANB",
        "outputId": "2c2c3ee7-ebab-4672-a82d-352fc10b829b"
      },
      "execution_count": 4,
      "outputs": [
        {
          "output_type": "stream",
          "name": "stdout",
          "text": [
            "A * u = [-24  20]\n",
            "-4 * u = [-24  20]\n",
            "Au = -4u? True\n",
            "Các trị riêng (eigenvalues): [-4.  7.]\n",
            "Các vector riêng (eigenvectors):\n",
            " [[-0.76822128 -0.70710678]\n",
            " [ 0.6401844  -0.70710678]]\n",
            "Đa thức đặc trưng (characteristic polynomial):\n",
            " 2           \n",
            "x  - 3⋅x - 28\n",
            "Các trị riêng tìm được: [-4, 7]\n"
          ]
        }
      ]
    },
    {
      "cell_type": "code",
      "source": [
        "import sympy\n",
        "\n",
        "x, y, Lambda = sympy.symbols('x y Lambda')\n",
        "I = sympy.eye(2)\n",
        "A = sympy.Matrix([[2, 3],\n",
        "                  [3, -6]])\n",
        "\n",
        "phuongtrinh = sympy.Eq(sympy.det(Lambda * I - A), 0)\n",
        "nghiem = sympy.solve(phuongtrinh)\n",
        "print(\"Trị riêng (dạng số gần đúng):\")\n",
        "print([sympy.N(phantu, 4) for phantu in nghiem])\n",
        "\n",
        "print(\"\\nTrị riêng (dạng biểu thức):\")\n",
        "print(sympy.pretty(nghiem))\n"
      ],
      "metadata": {
        "colab": {
          "base_uri": "https://localhost:8080/"
        },
        "id": "q92P3CGBkJFk",
        "outputId": "beece74f-3373-451d-d1af-8a8c6338e61c"
      },
      "execution_count": 6,
      "outputs": [
        {
          "output_type": "stream",
          "name": "stdout",
          "text": [
            "Trị riêng (dạng số gần đúng):\n",
            "[-7.000, 3.000]\n",
            "\n",
            "Trị riêng (dạng biểu thức):\n",
            "[-7, 3]\n"
          ]
        }
      ]
    },
    {
      "cell_type": "code",
      "source": [
        "# Bài 3.3\n",
        "import numpy as np\n",
        "from numpy.linalg import inv\n",
        "\n",
        "A = np.array([[2, 3],\n",
        "              [3, -6]])\n",
        "D = np.array([[-7, 0],\n",
        "              [ 0, 3]])\n",
        "P = np.array([[-1.0/3, 3],\n",
        "              [1,      1]])\n",
        "\n",
        "P_inv = inv(P)\n",
        "print(\"Ma trận P nghịch đảo (P^(-1)):\")\n",
        "print(P_inv)\n",
        "print(\"\\nA.dot(P):\")\n",
        "print(A.dot(P))\n",
        "\n",
        "print(\"\\nP.dot(D):\")\n",
        "print(P.dot(D))\n",
        "D_pow = np.linalg.matrix_power(D, 1000)\n",
        "A_pow = P @ D_pow @ P_inv\n",
        "\n",
        "print(\"\\nMa trận A^1000 tính bằng chéo hóa:\")\n",
        "print(np.round(A_pow, 4))\n",
        "print(\"\\nD ** 2 (bình phương ma trận đường chéo):\")\n",
        "print(np.linalg.matrix_power(D, 2))\n"
      ],
      "metadata": {
        "colab": {
          "base_uri": "https://localhost:8080/"
        },
        "id": "H3e-bVxSpQSo",
        "outputId": "c3349bea-1a09-441e-c668-1a53454c21e5"
      },
      "execution_count": 7,
      "outputs": [
        {
          "output_type": "stream",
          "name": "stdout",
          "text": [
            "Ma trận P nghịch đảo (P^(-1)):\n",
            "[[-0.3  0.9]\n",
            " [ 0.3  0.1]]\n",
            "\n",
            "A.dot(P):\n",
            "[[ 2.33333333  9.        ]\n",
            " [-7.          3.        ]]\n",
            "\n",
            "P.dot(D):\n",
            "[[ 2.33333333  9.        ]\n",
            " [-7.          3.        ]]\n",
            "\n",
            "Ma trận A^1000 tính bằng chéo hóa:\n",
            "[[ 5.03503397e+18  3.50482117e+18]\n",
            " [ 3.50482117e+18 -4.31115581e+18]]\n",
            "\n",
            "D ** 2 (bình phương ma trận đường chéo):\n",
            "[[49  0]\n",
            " [ 0  9]]\n"
          ]
        }
      ]
    },
    {
      "cell_type": "markdown",
      "source": [
        "Bài Tập về Nha\n"
      ],
      "metadata": {
        "id": "Uw4owV3gpbh_"
      }
    },
    {
      "cell_type": "markdown",
      "source": [
        "Bài 1\n",
        "Câu 1: [Trắc nghiệm] Trong Python 3, các câu lệnh sau đây, câu lệnh nào tính chuẩn 2 của\n",
        "vector a. Với a được xác định là:\n",
        ">>> import numpy as np\n",
        ">>> a = np.array([1,2,3])\n",
        "a. >>> mag = np.sqrt(a.dot(a))\n",
        "b. >>> mag = np.sqrt(a @ a )\n",
        "c. >>> mag = np.sqrt(np.inner(a,a))\n",
        "d. >>> mag = lambda x : math.sqrt(sum(i** 2 for i in x))\n",
        ">>> mag(a)\n",
        "\n",
        "a. >>> mag = np.sqrt(a.dot(a))"
      ],
      "metadata": {
        "id": "qOw6LdIWp7wh"
      }
    },
    {
      "cell_type": "code",
      "source": [
        "#Bài 2\n",
        "import numpy as np\n",
        "\n",
        "def khoang_cach(u, v):\n",
        "    return np.linalg.norm(u - v)\n",
        "def goc_giua(u, v):\n",
        "    dot_product = np.dot(u, v)\n",
        "    norm_u = np.linalg.norm(u)\n",
        "    norm_v = np.linalg.norm(v)\n",
        "    cos_theta = dot_product / (norm_u * norm_v)\n",
        "    cos_theta = np.clip(cos_theta, -1.0, 1.0)\n",
        "    theta_rad = np.arccos(cos_theta)\n",
        "    return np.degrees(theta_rad)\n",
        "def phep_chieu(u, v):\n",
        "    tu_so = np.dot(u, v)\n",
        "    mau_so = np.dot(v, v)\n",
        "    p = (tu_so / mau_so) * v\n",
        "    return p\n",
        "u = np.array([1, 2, 3])\n",
        "v = np.array([4, 5, 6])\n",
        "\n",
        "kc = khoang_cach(u, v)\n",
        "print(\"a) Khoảng cách giữa u và v:\", kc)\n",
        "\n",
        "goc = goc_giua(u, v)\n",
        "print(\"b) Góc giữa u và v (độ):\", goc)\n",
        "\n",
        "p = phep_chieu(u, v)\n",
        "print(\"c) Phép chiếu trực giao của u lên v:\", p)\n"
      ],
      "metadata": {
        "colab": {
          "base_uri": "https://localhost:8080/"
        },
        "id": "BKUNNX_JpeaD",
        "outputId": "284fe2c1-ab76-42c7-e8a5-cc2f961bff59"
      },
      "execution_count": 8,
      "outputs": [
        {
          "output_type": "stream",
          "name": "stdout",
          "text": [
            "a) Khoảng cách giữa u và v: 5.196152422706632\n",
            "b) Góc giữa u và v (độ): 12.933154491899135\n",
            "c) Phép chiếu trực giao của u lên v: [1.66233766 2.07792208 2.49350649]\n"
          ]
        }
      ]
    }
  ]
}