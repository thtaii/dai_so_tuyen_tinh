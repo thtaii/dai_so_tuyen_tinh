{
 "cells": [
  {
   "cell_type": "code",
   "execution_count": 5,
   "id": "0127d0cd",
   "metadata": {},
   "outputs": [
    {
     "name": "stdout",
     "output_type": "stream",
     "text": [
      "sgn_by_def([2, 1, 3, 4]) = -1\n",
      "sgn_by_def([1, 2, 3, 4]) = 1\n",
      "sgn_by_def([4, 3, 2, 1]) = 1\n",
      "[(1, 2, 3), (1, 3, 2), (2, 1, 3), (2, 3, 1), (3, 1, 2), (3, 2, 1)]\n"
     ]
    }
   ],
   "source": [
    "# 1. Định thức và các tính chất\n",
    "import numpy as np\n",
    "\n",
    "def sgn_by_def(sigma):\n",
    "    inv_count = 0\n",
    "    n = len(sigma)\n",
    "    for i in range(n):\n",
    "        for j in range(i+1, n):\n",
    "            if sigma[i] > sigma[j]:\n",
    "                inv_count += 1\n",
    "    return (-1) ** inv_count\n",
    "\n",
    "# Khởi tạo\n",
    "n = 4\n",
    "X = np.array(range(1, n + 1))\n",
    "\n",
    "\n",
    "sigma = np.array([2, 1, 3, 4])\n",
    "print(\"sgn_by_def([2, 1, 3, 4]) =\", sgn_by_def(sigma))  \n",
    "\n",
    "sigma = np.array([1, 2, 3, 4])\n",
    "print(\"sgn_by_def([1, 2, 3, 4]) =\", sgn_by_def(sigma)) \n",
    "\n",
    "sigma = np.array([4, 3, 2, 1])\n",
    "print(\"sgn_by_def([4, 3, 2, 1]) =\", sgn_by_def(sigma))  \n",
    "from itertools import permutations\n",
    "\n",
    "n = 3\n",
    "X = []\n",
    "for i in range(1, n + 1):\n",
    "    X.append(i)\n",
    "\n",
    "Sn = list(permutations(X))  # tạo hoán vị của tập X\n",
    "print(Sn)\n",
    "\n"
   ]
  },
  {
   "cell_type": "code",
   "execution_count": null,
   "id": "b2b4fad1",
   "metadata": {},
   "outputs": [
    {
     "name": "stdout",
     "output_type": "stream",
     "text": [
      "Giá trị các định thức: -14.0 -1.0 5.0\n",
      "Hai nghiệm của phương trình là: x = 0.07142857142857142 , y = -0.35714285714285715\n"
     ]
    }
   ],
   "source": [
    "# 3. Quy tắc Cramer\n",
    "import numpy as np\n",
    "from scipy import linalg\n",
    "\n",
    "# Khai báo các ma trận\n",
    "A = np.array([[4, -2], [3, -5]])\n",
    "A1 = np.array([[1, -2], [2, -5]])\n",
    "A2 = np.array([[4, 1], [3, 2]])\n",
    "\n",
    "# Tính định thức bằng scipy\n",
    "detA = linalg.det(A)\n",
    "detA1 = linalg.det(A1)\n",
    "detA2 = linalg.det(A2)\n",
    "\n",
    "print(\"Giá trị các định thức:\", detA, detA1, detA2)\n",
    "\n",
    "if detA != 0:\n",
    "    x1 = detA1 / detA\n",
    "    x2 = detA2 / detA\n",
    "    print(\"Hai nghiệm của phương trình là: x =\", x1, \", y =\", x2)\n"
   ]
  },
  {
   "cell_type": "code",
   "execution_count": 7,
   "id": "452d86df",
   "metadata": {},
   "outputs": [
    {
     "name": "stdout",
     "output_type": "stream",
     "text": [
      "Kết quả diện tích tam giác là: 3/2\n"
     ]
    }
   ],
   "source": [
    "# 4. Bài toán ứng dụng 1: Tính diện tích đa giác, thể tích và các phương trình đường, mặt. \n",
    "import sympy as sp\n",
    "\n",
    "# Tạo ma trận chứa tọa độ ba điểm và thêm cột 1 để tính định thức\n",
    "TG = sp.Matrix([\n",
    "    [1, 0, 1],  # Điểm A(x=1, y=0)\n",
    "    [4, 3, 1],  # Điểm B(x=4, y=3)\n",
    "    [2, 2, 1]   # Điểm C(x=2, y=2)\n",
    "])\n",
    "\n",
    "# Tính diện tích tam giác bằng công thức S = 1/2 * |det|\n",
    "area = sp.Rational(1, 2) * abs(TG.det())\n",
    "\n",
    "print(\"Kết quả diện tích tam giác là:\", area)\n"
   ]
  },
  {
   "cell_type": "markdown",
   "id": "7ac59c0e",
   "metadata": {},
   "source": [
    "# BÀI TẬP CHƯƠNG 4"
   ]
  },
  {
   "cell_type": "code",
   "execution_count": 9,
   "id": "0943aece",
   "metadata": {},
   "outputs": [
    {
     "name": "stdout",
     "output_type": "stream",
     "text": [
      "a. Ma trận hệ số phụ (cofactor matrix):\n",
      "⎡ 6   -3   7 ⎤\n",
      "⎢            ⎥\n",
      "⎢ 2   -1  -1 ⎥\n",
      "⎢            ⎥\n",
      "⎣-10  10  -10⎦\n",
      "\n",
      "b. Ma trận liên hợp (adjoint matrix):\n",
      "⎡6   2   -10⎤\n",
      "⎢           ⎥\n",
      "⎢-3  -1  10 ⎥\n",
      "⎢           ⎥\n",
      "⎣7   -1  -10⎦\n",
      "Phương trình đường tròn đi qua 3 điểm là:\n",
      "    2              2                \n",
      "10⋅x  - 60⋅x + 10⋅y  - 40⋅y + 80 = 0\n"
     ]
    }
   ],
   "source": [
    "import sympy as sp\n",
    "# Câu 1\n",
    "# Nhập ma trận A (có thể thay đổi tại đây)\n",
    "A = sp.Matrix([\n",
    "    [2, 3, 1],\n",
    "    [4, 1, -3],\n",
    "    [1, 2, 0]\n",
    "])\n",
    "\n",
    "# a. Ma trận hệ số phụ (Cofactor matrix)\n",
    "cofactor_matrix = A.cofactor_matrix()\n",
    "print(\"a. Ma trận hệ số phụ (cofactor matrix):\")\n",
    "sp.pprint(cofactor_matrix)\n",
    "\n",
    "# b. Ma trận liên hợp (Adjoint matrix) = Ma trận chuyển vị của cofactor\n",
    "adjoint_matrix = cofactor_matrix.transpose()\n",
    "print(\"\\nb. Ma trận liên hợp (adjoint matrix):\")\n",
    "sp.pprint(adjoint_matrix)\n",
    "# Câu 2\n",
    "import sympy as sp\n",
    "\n",
    "# Biến x, y là biến trong phương trình\n",
    "x, y = sp.symbols('x y')\n",
    "\n",
    "# Nhập tọa độ 3 điểm\n",
    "P1 = (1, 1)\n",
    "P2 = (2, 4)\n",
    "P3 = (5, 3)\n",
    "\n",
    "# Tính x^2 + y^2\n",
    "row0 = [x**2 + y**2, x, y, 1]\n",
    "row1 = [P1[0]**2 + P1[1]**2, P1[0], P1[1], 1]\n",
    "row2 = [P2[0]**2 + P2[1]**2, P2[0], P2[1], 1]\n",
    "row3 = [P3[0]**2 + P3[1]**2, P3[0], P3[1], 1]\n",
    "\n",
    "# Tạo ma trận 4x4\n",
    "M = sp.Matrix([row0, row1, row2, row3])\n",
    "\n",
    "# Lấy định thức\n",
    "det = M.det()\n",
    "\n",
    "# Rút gọn phương trình\n",
    "circle_eq = sp.Eq(det, 0)\n",
    "\n",
    "# In phương trình đường tròn\n",
    "print(\"Phương trình đường tròn đi qua 3 điểm là:\")\n",
    "sp.pprint(circle_eq.simplify())\n"
   ]
  }
 ],
 "metadata": {
  "kernelspec": {
   "display_name": "Python 3",
   "language": "python",
   "name": "python3"
  },
  "language_info": {
   "codemirror_mode": {
    "name": "ipython",
    "version": 3
   },
   "file_extension": ".py",
   "mimetype": "text/x-python",
   "name": "python",
   "nbconvert_exporter": "python",
   "pygments_lexer": "ipython3",
   "version": "3.13.1"
  }
 },
 "nbformat": 4,
 "nbformat_minor": 5
}
