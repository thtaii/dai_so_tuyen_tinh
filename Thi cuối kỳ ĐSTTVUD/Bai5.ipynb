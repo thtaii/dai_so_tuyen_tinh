{
 "cells": [
  {
   "cell_type": "code",
   "execution_count": 1,
   "metadata": {},
   "outputs": [
    {
     "name": "stdout",
     "output_type": "stream",
     "text": [
      "a) Nghiệm x của hệ phương trình Rx = b là:\n",
      " [2.78823529 1.52941176 1.18823529]\n",
      "\n",
      "b) Định thức của R: 85.00000000000001\n",
      "=> Ma trận R khả nghịch.\n",
      "Ma trận nghịch đảo R^-1 là:\n",
      " [[ 0.22352941  0.10588235 -0.04705882]\n",
      " [-0.05882353  0.23529412  0.11764706]\n",
      " [ 0.02352941 -0.09411765  0.15294118]]\n",
      "Nghiệm tìm được bằng R^-1 * b là:\n",
      " [2.78823529 1.52941176 1.18823529]\n",
      "So sánh nghiệm:  Trùng khớp\n",
      "\n",
      "c) Chuẩn Frobenius của ma trận R là: 8.0\n"
     ]
    }
   ],
   "source": [
    "import numpy as np\n",
    "\n",
    "# Ma trận hệ số R và vector b\n",
    "R = np.array([[4, -1, 2],\n",
    "              [1, 3, -2],\n",
    "              [0, 2, 5]])\n",
    "b = np.array([12, 5, 9])\n",
    "\n",
    "# a) Giải hệ phương trình Rx = b\n",
    "x = np.linalg.solve(R, b)\n",
    "print(\"a) Nghiệm x của hệ phương trình Rx = b là:\\n\", x)\n",
    "\n",
    "# b) Kiểm tra khả nghịch của R\n",
    "det_R = np.linalg.det(R)\n",
    "print(\"\\nb) Định thức của R:\", det_R)\n",
    "\n",
    "if det_R != 0:\n",
    "    print(\"=> Ma trận R khả nghịch.\")\n",
    "    \n",
    "    # Tính ma trận nghịch đảo\n",
    "    R_inv = np.linalg.inv(R)\n",
    "    print(\"Ma trận nghịch đảo R^-1 là:\\n\", R_inv)\n",
    "\n",
    "    # Giải hệ bằng R^-1 * b\n",
    "    x_via_inverse = R_inv @ b\n",
    "    print(\"Nghiệm tìm được bằng R^-1 * b là:\\n\", x_via_inverse)\n",
    "\n",
    "    # So sánh với nghiệm ban đầu\n",
    "    diff = np.allclose(x, x_via_inverse)\n",
    "    print(\"So sánh nghiệm: \", \"Trùng khớp\" if diff else \"Khác nhau\")\n",
    "else:\n",
    "    print(\"=> Ma trận R không khả nghịch.\")\n",
    "\n",
    "# c) Tính chuẩn Frobenius của ma trận R\n",
    "fro_norm = np.linalg.norm(R, ord='fro')\n",
    "print(\"\\nc) Chuẩn Frobenius của ma trận R là:\", fro_norm)\n"
   ]
  }
 ],
 "metadata": {
  "kernelspec": {
   "display_name": "Python 3",
   "language": "python",
   "name": "python3"
  },
  "language_info": {
   "codemirror_mode": {
    "name": "ipython",
    "version": 3
   },
   "file_extension": ".py",
   "mimetype": "text/x-python",
   "name": "python",
   "nbconvert_exporter": "python",
   "pygments_lexer": "ipython3",
   "version": "3.11.0"
  },
  "orig_nbformat": 4,
  "vscode": {
   "interpreter": {
    "hash": "c261aea317cc0286b3b3261fbba9abdec21eaa57589985bb7a274bf54d6cc0a7"
   }
  }
 },
 "nbformat": 4,
 "nbformat_minor": 2
}
