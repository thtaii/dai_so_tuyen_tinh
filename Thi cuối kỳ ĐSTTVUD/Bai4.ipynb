{
 "cells": [
  {
   "cell_type": "code",
   "execution_count": 7,
   "metadata": {},
   "outputs": [
    {
     "name": "stdout",
     "output_type": "stream",
     "text": [
      " a) Các giá trị riêng (Eigenvalues) của ma trận Q \n",
      "λ1 = (6.355301397608123+0j)\n",
      "λ2 = (2.822349301195943+1.0773038128499652j)\n",
      "λ3 = (2.822349301195943-1.0773038128499652j)\n",
      "\n",
      " b) Các vector riêng (Eigenvectors) tương ứng \n",
      "Vector riêng ứng với λ1:\n",
      "[ 0.74846013+0.j -0.18941773+0.j  0.63555359+0.j]\n",
      "\n",
      "Vector riêng ứng với λ2:\n",
      "[-0.37423006+0.34234215j  0.09470887+0.57433055j  0.63555359+0.j        ]\n",
      "\n",
      "Vector riêng ứng với λ3:\n",
      "[-0.37423006-0.34234215j  0.09470887-0.57433055j  0.63555359-0.j        ]\n",
      "\n",
      "c) Các vector riêng sau khi chuẩn hóa (độ dài bằng 1) \n",
      "Vector riêng đã chuẩn hóa ứng với λ1:\n",
      "[ 0.74846013+0.j -0.18941773+0.j  0.63555359+0.j]\n",
      "\n",
      "Vector riêng đã chuẩn hóa ứng với λ2:\n",
      "[-0.37423006+0.34234215j  0.09470887+0.57433055j  0.63555359+0.j        ]\n",
      "\n",
      "Vector riêng đã chuẩn hóa ứng với λ3:\n",
      "[-0.37423006-0.34234215j  0.09470887-0.57433055j  0.63555359-0.j        ]\n",
      "\n"
     ]
    }
   ],
   "source": [
    "import numpy as np\n",
    "from numpy.linalg import eig, norm\n",
    "\n",
    "# a) Định nghĩa ma trận Q\n",
    "Q = np.array([\n",
    "    [5, -2, 1],\n",
    "    [0, 3, -1],\n",
    "    [2, 0, 4]\n",
    "])\n",
    "\n",
    "# b) Tính giá trị riêng và vector riêng\n",
    "eigenvalues, eigenvectors = eig(Q)\n",
    "\n",
    "print(\" a) Các giá trị riêng (Eigenvalues) của ma trận Q \")\n",
    "for i, val in enumerate(eigenvalues):\n",
    "    print(f\"λ{i+1} = {val}\")\n",
    "\n",
    "print(\"\\n b) Các vector riêng (Eigenvectors) tương ứng \")\n",
    "for i in range(eigenvectors.shape[1]):\n",
    "    print(f\"Vector riêng ứng với λ{i+1}:\")\n",
    "    print(eigenvectors[:, i])\n",
    "    print()\n",
    "\n",
    "# Chuẩn hóa các vector riêng (vector dài 1)\n",
    "normalized_vectors = np.array([v / norm(v) for v in eigenvectors.T]).T\n",
    "\n",
    "print(\"c) Các vector riêng sau khi chuẩn hóa (độ dài bằng 1) \")\n",
    "for i in range(normalized_vectors.shape[1]):\n",
    "    print(f\"Vector riêng đã chuẩn hóa ứng với λ{i+1}:\")\n",
    "    print(normalized_vectors[:, i])\n",
    "    print()\n",
    "\n",
    "\n"
   ]
  }
 ],
 "metadata": {
  "kernelspec": {
   "display_name": "Python 3",
   "language": "python",
   "name": "python3"
  },
  "language_info": {
   "codemirror_mode": {
    "name": "ipython",
    "version": 3
   },
   "file_extension": ".py",
   "mimetype": "text/x-python",
   "name": "python",
   "nbconvert_exporter": "python",
   "pygments_lexer": "ipython3",
   "version": "3.11.0"
  },
  "orig_nbformat": 4,
  "vscode": {
   "interpreter": {
    "hash": "c261aea317cc0286b3b3261fbba9abdec21eaa57589985bb7a274bf54d6cc0a7"
   }
  }
 },
 "nbformat": 4,
 "nbformat_minor": 2
}
