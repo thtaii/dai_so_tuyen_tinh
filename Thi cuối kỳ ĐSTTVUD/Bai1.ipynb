{
 "cells": [
  {
   "cell_type": "code",
   "execution_count": 1,
   "metadata": {},
   "outputs": [
    {
     "name": "stdout",
     "output_type": "stream",
     "text": [
      "a) Tổng A + B: [2 3 1 6]\n",
      "   Tích số 2A + 3B: [ 3 11  2 14]\n",
      "\n",
      "b) Tích vô hướng A · B: -5\n",
      "   Góc giữa hai vector (độ): 99.594\n",
      "\n",
      "c) Ma trận CC^T:\n",
      " [[14 -8 13]\n",
      " [-8 21 -2]\n",
      " [13 -2 29]]\n"
     ]
    }
   ],
   "source": [
    "import numpy as np\n",
    "import math\n",
    "\n",
    "# Khai báo vector và ma trận\n",
    "A = np.array([3, -2, 1, 4])\n",
    "B = np.array([-1, 5, 0, 2])\n",
    "C = np.array([[2, -1, 3],\n",
    "              [1, 4, -2],\n",
    "              [0, 2, 5]])\n",
    "\n",
    "# a) Tính tổng A + B và tích số 2A + 3B\n",
    "sum_AB = A + B\n",
    "linear_combination = 2 * A + 3 * B\n",
    "\n",
    "# b) Tính tích vô hướng A.B và góc giữa chúng\n",
    "dot_product = np.dot(A, B)\n",
    "norm_A = np.linalg.norm(A)\n",
    "norm_B = np.linalg.norm(B)\n",
    "cos_theta = dot_product / (norm_A * norm_B)\n",
    "angle_degrees = math.degrees(math.acos(cos_theta))\n",
    "\n",
    "# c) Tính tích CC^T\n",
    "CCT = np.dot(C, C.T)\n",
    "\n",
    "# In kết quả\n",
    "print(\"a) Tổng A + B:\", sum_AB)\n",
    "print(\"   Tích số 2A + 3B:\", linear_combination)\n",
    "print(\"\\nb) Tích vô hướng A · B:\", dot_product)\n",
    "print(\"   Góc giữa hai vector (độ):\", round(angle_degrees, 3))\n",
    "print(\"\\nc) Ma trận CC^T:\\n\", CCT)\n"
   ]
  }
 ],
 "metadata": {
  "kernelspec": {
   "display_name": "Python 3",
   "language": "python",
   "name": "python3"
  },
  "language_info": {
   "codemirror_mode": {
    "name": "ipython",
    "version": 3
   },
   "file_extension": ".py",
   "mimetype": "text/x-python",
   "name": "python",
   "nbconvert_exporter": "python",
   "pygments_lexer": "ipython3",
   "version": "3.11.0"
  },
  "orig_nbformat": 4,
  "vscode": {
   "interpreter": {
    "hash": "c261aea317cc0286b3b3261fbba9abdec21eaa57589985bb7a274bf54d6cc0a7"
   }
  }
 },
 "nbformat": 4,
 "nbformat_minor": 2
}
