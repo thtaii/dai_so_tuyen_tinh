{
 "cells": [
  {
   "cell_type": "code",
   "execution_count": 1,
   "metadata": {},
   "outputs": [
    {
     "name": "stdout",
     "output_type": "stream",
     "text": [
      "a) Ma trận M x N:\n",
      " [[ -2  13   0  -5]\n",
      " [  2   0  12  30]\n",
      " [ 17   7  28 -14]\n",
      " [-13   3   5  15]]\n",
      "\n",
      "b) Định thức của ma trận M: 409.0\n",
      "\n",
      "c) Hạng của ma trận N: 4\n"
     ]
    }
   ],
   "source": [
    "import numpy as np\n",
    "\n",
    "# Khai báo ma trận\n",
    "M = np.array([\n",
    "    [2, -1, 3, 0],\n",
    "    [1, 4, -2, 5],\n",
    "    [0, 2, 6, -3],\n",
    "    [-1, 0, 1, 4]\n",
    "])\n",
    "\n",
    "N = np.array([\n",
    "    [1, 3, -2, 0],\n",
    "    [4, -1, 5, 2],\n",
    "    [0, 2, 3, -1],\n",
    "    [-3, 1, 0, 4]\n",
    "])\n",
    "\n",
    "# a) Tính tích M x N\n",
    "product = np.dot(M, N)\n",
    "\n",
    "# b) Tính định thức của M\n",
    "det_M = np.linalg.det(M)\n",
    "\n",
    "# c) Tính hạng của N\n",
    "rank_N = np.linalg.matrix_rank(N)\n",
    "\n",
    "# In kết quả\n",
    "print(\"a) Ma trận M x N:\\n\", product)\n",
    "print(\"\\nb) Định thức của ma trận M:\", round(det_M, 3))\n",
    "print(\"\\nc) Hạng của ma trận N:\", rank_N)\n"
   ]
  }
 ],
 "metadata": {
  "kernelspec": {
   "display_name": "Python 3",
   "language": "python",
   "name": "python3"
  },
  "language_info": {
   "codemirror_mode": {
    "name": "ipython",
    "version": 3
   },
   "file_extension": ".py",
   "mimetype": "text/x-python",
   "name": "python",
   "nbconvert_exporter": "python",
   "pygments_lexer": "ipython3",
   "version": "3.11.0"
  },
  "orig_nbformat": 4,
  "vscode": {
   "interpreter": {
    "hash": "c261aea317cc0286b3b3261fbba9abdec21eaa57589985bb7a274bf54d6cc0a7"
   }
  }
 },
 "nbformat": 4,
 "nbformat_minor": 2
}
