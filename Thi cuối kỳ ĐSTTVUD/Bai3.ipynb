{
 "cells": [
  {
   "cell_type": "code",
   "execution_count": 1,
   "metadata": {},
   "outputs": [
    {
     "name": "stdout",
     "output_type": "stream",
     "text": [
      "a) Định thức của P: 140.0\n",
      "Ma trận nghịch đảo của P:\n",
      " [[ 0.5         0.1         0.1        -0.3       ]\n",
      " [-0.14285714  0.2         0.05714286  0.11428571]\n",
      " [-0.03571429 -0.05        0.16428571  0.07857143]\n",
      " [-0.32142857 -0.05       -0.12142857  0.50714286]]\n",
      "\n",
      "b) Nghiệm của hệ phương trình là:\n",
      " [2.         1.71428571 0.42857143 0.85714286]\n",
      "\n",
      "c) Kiểm tra lại P · x:\n",
      " [6. 8. 3. 7.]\n",
      "So sánh với vector hằng số b: [6 8 3 7]\n",
      "Có đúng không?  True\n"
     ]
    }
   ],
   "source": [
    "import numpy as np\n",
    "\n",
    "# Khai báo ma trận và vector\n",
    "P = np.array([\n",
    "    [3, -1, 0, 2],\n",
    "    [1, 4, -2, 0],\n",
    "    [0, 1, 5, -1],\n",
    "    [2, 0, 1, 3]\n",
    "])\n",
    "\n",
    "b = np.array([6, 8, 3, 7])\n",
    "\n",
    "# a) Tìm ma trận nghịch đảo của P\n",
    "det_P = np.linalg.det(P)\n",
    "print(\"a) Định thức của P:\", round(det_P, 3))\n",
    "\n",
    "if det_P != 0:\n",
    "    P_inv = np.linalg.inv(P)\n",
    "    print(\"Ma trận nghịch đảo của P:\\n\", P_inv)\n",
    "else:\n",
    "    print(\"Ma trận P không khả nghịch vì định thức bằng 0.\")\n",
    "\n",
    "# b) Giải hệ phương trình bằng nghịch đảo\n",
    "if det_P != 0:\n",
    "    x = np.dot(P_inv, b)\n",
    "    print(\"\\nb) Nghiệm của hệ phương trình là:\\n\", x)\n",
    "else:\n",
    "    x = None\n",
    "\n",
    "# c) Kiểm tra lại nghiệm\n",
    "if x is not None:\n",
    "    check = np.dot(P, x)\n",
    "    print(\"\\nc) Kiểm tra lại P · x:\\n\", check)\n",
    "    print(\"So sánh với vector hằng số b:\", b)\n",
    "    print(\"Có đúng không? \", np.allclose(check, b))\n"
   ]
  }
 ],
 "metadata": {
  "kernelspec": {
   "display_name": "Python 3",
   "language": "python",
   "name": "python3"
  },
  "language_info": {
   "codemirror_mode": {
    "name": "ipython",
    "version": 3
   },
   "file_extension": ".py",
   "mimetype": "text/x-python",
   "name": "python",
   "nbconvert_exporter": "python",
   "pygments_lexer": "ipython3",
   "version": "3.11.0"
  },
  "orig_nbformat": 4,
  "vscode": {
   "interpreter": {
    "hash": "c261aea317cc0286b3b3261fbba9abdec21eaa57589985bb7a274bf54d6cc0a7"
   }
  }
 },
 "nbformat": 4,
 "nbformat_minor": 2
}
