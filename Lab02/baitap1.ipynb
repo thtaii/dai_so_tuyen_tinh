{
 "cells": [
  {
   "cell_type": "code",
   "execution_count": null,
   "id": "e058ea81",
   "metadata": {},
   "outputs": [
    {
     "name": "stdout",
     "output_type": "stream",
     "text": [
      "[-3. -3.]\n"
     ]
    }
   ],
   "source": [
    "# problem 1\n",
    "import numpy as np\n",
    "\n",
    "A = np.array([[1, -1], [2, -1]])\n",
    "b = np.array([0, -3])\n",
    "x = np.linalg.solve(A, b)\n",
    "\n",
    "print(x)"
   ]
  },
  {
   "cell_type": "code",
   "execution_count": null,
   "id": "73fae2a4",
   "metadata": {},
   "outputs": [
    {
     "name": "stdout",
     "output_type": "stream",
     "text": [
      "[0.42857143 1.71428571 3.85714286]\n"
     ]
    }
   ],
   "source": [
    "# problem 2\n",
    "A = np.array([[1,1,1],[2,-1,1],[1,2,-1]])\n",
    "b = np.array([6,3,0])\n",
    "x = np.linalg.solve(A, b)\n",
    "\n",
    "print(x)"
   ]
  },
  {
   "cell_type": "code",
   "execution_count": null,
   "id": "6d22936a",
   "metadata": {},
   "outputs": [],
   "source": [
    "# problem 3\n",
    "A = np.array([[1,1,1], [4,2,1], [9,3,1]])\n",
    "b = np.array([1,4,9])\n",
    "x = np.linalg.solve(A, b)\n",
    "\n",
    "print(x)"
   ]
  }
 ],
 "metadata": {
  "kernelspec": {
   "display_name": "Python 3",
   "language": "python",
   "name": "python3"
  },
  "language_info": {
   "codemirror_mode": {
    "name": "ipython",
    "version": 3
   },
   "file_extension": ".py",
   "mimetype": "text/x-python",
   "name": "python",
   "nbconvert_exporter": "python",
   "pygments_lexer": "ipython3",
   "version": "3.11.9"
  }
 },
 "nbformat": 4,
 "nbformat_minor": 5
}
