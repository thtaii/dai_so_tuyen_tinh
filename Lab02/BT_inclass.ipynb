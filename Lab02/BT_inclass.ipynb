{
 "cells": [
  {
   "cell_type": "code",
   "execution_count": null,
   "id": "54c883f4",
   "metadata": {},
   "outputs": [],
   "source": [
    "'''bai 1'''\n",
    "# scale(10, [3, 5, 7])\n",
    "[30, 50, 70]\n",
    "# sumvector([3, 5, 7], [2, 4, 6])\n",
    "[5, 9, 13]\n",
    "# dotvector([3, 5, 7], [2, 4, 6])\n",
    "(3*2) + (5*4) + (7*6) = 6 + 20 + 42 = 68\n",
    "# lenvector([2, 4, 6])\n",
    "2^2 + 4^2 + 6^2 = 4 + 16 + 36 = 56"
   ]
  },
  {
   "cell_type": "code",
   "execution_count": null,
   "id": "5e1b0616",
   "metadata": {},
   "outputs": [
    {
     "data": {
      "text/plain": [
       "array([ True, False, False,  True, False,  True])"
      ]
     },
     "execution_count": 13,
     "metadata": {},
     "output_type": "execute_result"
    }
   ],
   "source": [
    "'''bai 2'''\n",
    "import numpy as np\n",
    "scores = np.array([-1, 1, 2, -3, 5, -4])\n",
    "scores >= 0\n",
    "→ [False, True, True, False, True, False]\n",
    "\n",
    "scores < 0 \n",
    "→ [True, False, False, True, False, True]\n",
    "\n",
    "np.select([scores >= 0, scores < 0], ['so duong', 'so am']) \n",
    "→ ['so am', 'so duong', 'so duong', 'so am', 'so duong', 'so am']\n",
    "\n",
    "scores = np.array([-1, 1, 2, 0, -3, 5, 0, -4])\n",
    "np.select([scores > 0, scores == 0, scores < 0], ['so duong', 'so 0', 'so am']) \n",
    "→ ['so am', 'so duong', 'so duong', 'so 0', 'so am', 'so duong', 'so 0', 'so am']\n"
   ]
  }
 ],
 "metadata": {
  "kernelspec": {
   "display_name": "Python 3",
   "language": "python",
   "name": "python3"
  },
  "language_info": {
   "codemirror_mode": {
    "name": "ipython",
    "version": 3
   },
   "file_extension": ".py",
   "mimetype": "text/x-python",
   "name": "python",
   "nbconvert_exporter": "python",
   "pygments_lexer": "ipython3",
   "version": "3.11.9"
  }
 },
 "nbformat": 4,
 "nbformat_minor": 5
}
