{
 "cells": [
  {
   "cell_type": "code",
   "execution_count": null,
   "metadata": {},
   "outputs": [],
   "source": [
    "# Kernel (a)\n",
    "kernel_a = [\n",
    "    [ 0, -1,  0],\n",
    "    [-1,  5, -1],\n",
    "    [ 0, -1,  0]\n",
    "]\n",
    "\n",
    "apply_filter(\"C:/traidat.PNG\", \"C:/traidat_sharpen_a.PNG\", kernel_a)\n"
   ]
  },
  {
   "cell_type": "code",
   "execution_count": null,
   "metadata": {},
   "outputs": [],
   "source": [
    "# Kernel (b)\n",
    "kernel_b = [\n",
    "    [-1, -1, -1],\n",
    "    [-1,  9, -1],\n",
    "    [-1, -1, -1]\n",
    "]\n",
    "\n",
    "apply_filter(\"C:/traidat.PNG\", \"C:/traidat_sharpen_b.PNG\", kernel_b)\n"
   ]
  }
 ],
 "metadata": {
  "kernelspec": {
   "display_name": "Python 3",
   "language": "python",
   "name": "python3"
  },
  "language_info": {
   "name": "python",
   "version": "3.11.0 (main, Oct 24 2022, 18:26:48) [MSC v.1933 64 bit (AMD64)]"
  },
  "orig_nbformat": 4,
  "vscode": {
   "interpreter": {
    "hash": "c261aea317cc0286b3b3261fbba9abdec21eaa57589985bb7a274bf54d6cc0a7"
   }
  }
 },
 "nbformat": 4,
 "nbformat_minor": 2
}
