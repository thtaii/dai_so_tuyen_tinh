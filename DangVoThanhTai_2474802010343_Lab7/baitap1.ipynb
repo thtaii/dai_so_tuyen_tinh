{
 "cells": [
  {
   "cell_type": "code",
   "execution_count": 3,
   "metadata": {},
   "outputs": [],
   "source": [
    "gauss_kernel = [\n",
    "    [1, 2, 1],\n",
    "    [2, 4, 2],\n",
    "    [1, 2, 1]\n",
    "]\n",
    "# Chuẩn hóa (tổng bằng 1)\n",
    "gauss_kernel = [[v / 16 for v in row] for row in gauss_kernel]\n"
   ]
  },
  {
   "cell_type": "code",
   "execution_count": 4,
   "metadata": {},
   "outputs": [],
   "source": [
    "def apply_filter(input_path, output_path, kernel):\n",
    "    img = Image.open(input_path).convert(\"RGB\")\n",
    "    pixels = img.load()\n",
    "    width, height = img.size\n",
    "    offset = len(kernel) // 2\n",
    "\n",
    "    new_img = Image.new(\"RGB\", (width, height))\n",
    "    draw = ImageDraw.Draw(new_img)\n",
    "\n",
    "    for x in range(offset, width - offset):\n",
    "        for y in range(offset, height - offset):\n",
    "            acc = [0, 0, 0]\n",
    "            for i in range(3):\n",
    "                for j in range(3):\n",
    "                    px = pixels[x + i - 1, y + j - 1]\n",
    "                    for c in range(3):  # R, G, B\n",
    "                        acc[c] += px[c] * kernel[i][j]\n",
    "            draw.point((x, y), tuple(int(v) for v in acc))\n",
    "\n",
    "    new_img.save(output_path)\n"
   ]
  },
  {
   "cell_type": "code",
   "execution_count": null,
   "metadata": {},
   "outputs": [],
   "source": [
    "# Đường dẫn cần thay bằng ảnh thật trên máy\n",
    "apply_filter(\"C:/traidat.PNG\", \"C:/traidat_gauss_blur.PNG\", gauss_kernel)"
   ]
  }
 ],
 "metadata": {
  "kernelspec": {
   "display_name": "Python 3",
   "language": "python",
   "name": "python3"
  },
  "language_info": {
   "codemirror_mode": {
    "name": "ipython",
    "version": 3
   },
   "file_extension": ".py",
   "mimetype": "text/x-python",
   "name": "python",
   "nbconvert_exporter": "python",
   "pygments_lexer": "ipython3",
   "version": "3.11.0 (main, Oct 24 2022, 18:26:48) [MSC v.1933 64 bit (AMD64)]"
  },
  "orig_nbformat": 4,
  "vscode": {
   "interpreter": {
    "hash": "c261aea317cc0286b3b3261fbba9abdec21eaa57589985bb7a274bf54d6cc0a7"
   }
  }
 },
 "nbformat": 4,
 "nbformat_minor": 2
}
